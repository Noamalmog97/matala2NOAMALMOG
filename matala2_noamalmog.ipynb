{
  "cells": [
    {
      "cell_type": "markdown",
      "metadata": {
        "id": "view-in-github",
        "colab_type": "text"
      },
      "source": [
        "<a href=\"https://colab.research.google.com/github/Noamalmog97/matala2NOAMALMOG/blob/main/matala2_noamalmog.ipynb\" target=\"_parent\"><img src=\"https://colab.research.google.com/assets/colab-badge.svg\" alt=\"Open In Colab\"/></a>"
      ]
    },
    {
      "cell_type": "code",
      "execution_count": null,
      "id": "352191b6-c734-4b6c-b9b8-24fa472e8230",
      "metadata": {
        "id": "352191b6-c734-4b6c-b9b8-24fa472e8230"
      },
      "outputs": [],
      "source": [
        "import pandas as pd\n",
        "import numpy as np\n",
        "import re\n",
        "import datetime\n",
        "from datetime import timedelta\n",
        "import matplotlib.pyplot as plt\n",
        "import seaborn as sns"
      ]
    },
    {
      "cell_type": "code",
      "execution_count": null,
      "id": "a948e3b0-716d-4a7f-86c2-e231359f8050",
      "metadata": {
        "id": "a948e3b0-716d-4a7f-86c2-e231359f8050",
        "outputId": "d8ca49c9-5056-4cd5-d263-a6a699de633e"
      },
      "outputs": [
        {
          "name": "stderr",
          "output_type": "stream",
          "text": [
            "/var/folders/0d/_4s506zn4wd482595wvxd92c0000gn/T/ipykernel_49911/2248689293.py:4: DtypeWarning: Columns (6) have mixed types. Specify dtype option on import or set low_memory=False.\n",
            "  data = pd.read_csv(datafile)\n"
          ]
        },
        {
          "data": {
            "text/html": [
              "<div>\n",
              "<style scoped>\n",
              "    .dataframe tbody tr th:only-of-type {\n",
              "        vertical-align: middle;\n",
              "    }\n",
              "\n",
              "    .dataframe tbody tr th {\n",
              "        vertical-align: top;\n",
              "    }\n",
              "\n",
              "    .dataframe thead th {\n",
              "        text-align: right;\n",
              "    }\n",
              "</style>\n",
              "<table border=\"1\" class=\"dataframe\">\n",
              "  <thead>\n",
              "    <tr style=\"text-align: right;\">\n",
              "      <th></th>\n",
              "      <th>event_time</th>\n",
              "      <th>event_type</th>\n",
              "      <th>product_id</th>\n",
              "      <th>category_id</th>\n",
              "      <th>category_code</th>\n",
              "      <th>brand</th>\n",
              "      <th>price</th>\n",
              "      <th>user_id</th>\n",
              "      <th>user_session</th>\n",
              "    </tr>\n",
              "  </thead>\n",
              "  <tbody>\n",
              "    <tr>\n",
              "      <th>0</th>\n",
              "      <td>2019-11-01 00:00:02 UTC</td>\n",
              "      <td>view</td>\n",
              "      <td>5802432</td>\n",
              "      <td>1487580009286598681</td>\n",
              "      <td>NaN</td>\n",
              "      <td>NaN</td>\n",
              "      <td>0.32</td>\n",
              "      <td>562076640</td>\n",
              "      <td>09fafd6c-6c99-46b1-834f-33527f4de241</td>\n",
              "    </tr>\n",
              "    <tr>\n",
              "      <th>1</th>\n",
              "      <td>2019-11-01 00:00:09 UTC</td>\n",
              "      <td>cart</td>\n",
              "      <td>5844397</td>\n",
              "      <td>1487580006317032337</td>\n",
              "      <td>NaN</td>\n",
              "      <td>NaN</td>\n",
              "      <td>2.38</td>\n",
              "      <td>553329724</td>\n",
              "      <td>2067216c-31b5-455d-a1cc-af0575a34ffb</td>\n",
              "    </tr>\n",
              "    <tr>\n",
              "      <th>2</th>\n",
              "      <td>2019-11-01 00:00:10 UTC</td>\n",
              "      <td>view</td>\n",
              "      <td>5837166</td>\n",
              "      <td>1783999064103190764</td>\n",
              "      <td>NaN</td>\n",
              "      <td>pnb</td>\n",
              "      <td>22.22</td>\n",
              "      <td>556138645</td>\n",
              "      <td>57ed222e-a54a-4907-9944-5a875c2d7f4f</td>\n",
              "    </tr>\n",
              "    <tr>\n",
              "      <th>3</th>\n",
              "      <td>2019-11-01 00:00:11 UTC</td>\n",
              "      <td>cart</td>\n",
              "      <td>5876812</td>\n",
              "      <td>1487580010100293687</td>\n",
              "      <td>NaN</td>\n",
              "      <td>jessnail</td>\n",
              "      <td>3.16</td>\n",
              "      <td>564506666</td>\n",
              "      <td>186c1951-8052-4b37-adce-dd9644b1d5f7</td>\n",
              "    </tr>\n",
              "    <tr>\n",
              "      <th>4</th>\n",
              "      <td>2019-11-01 00:00:24 UTC</td>\n",
              "      <td>remove_from_cart</td>\n",
              "      <td>5826182</td>\n",
              "      <td>1487580007483048900</td>\n",
              "      <td>NaN</td>\n",
              "      <td>NaN</td>\n",
              "      <td>3.33</td>\n",
              "      <td>553329724</td>\n",
              "      <td>2067216c-31b5-455d-a1cc-af0575a34ffb</td>\n",
              "    </tr>\n",
              "  </tbody>\n",
              "</table>\n",
              "</div>"
            ],
            "text/plain": [
              "                event_time        event_type  product_id          category_id  \\\n",
              "0  2019-11-01 00:00:02 UTC              view     5802432  1487580009286598681   \n",
              "1  2019-11-01 00:00:09 UTC              cart     5844397  1487580006317032337   \n",
              "2  2019-11-01 00:00:10 UTC              view     5837166  1783999064103190764   \n",
              "3  2019-11-01 00:00:11 UTC              cart     5876812  1487580010100293687   \n",
              "4  2019-11-01 00:00:24 UTC  remove_from_cart     5826182  1487580007483048900   \n",
              "\n",
              "  category_code     brand  price    user_id  \\\n",
              "0           NaN       NaN   0.32  562076640   \n",
              "1           NaN       NaN   2.38  553329724   \n",
              "2           NaN       pnb  22.22  556138645   \n",
              "3           NaN  jessnail   3.16  564506666   \n",
              "4           NaN       NaN   3.33  553329724   \n",
              "\n",
              "                           user_session  \n",
              "0  09fafd6c-6c99-46b1-834f-33527f4de241  \n",
              "1  2067216c-31b5-455d-a1cc-af0575a34ffb  \n",
              "2  57ed222e-a54a-4907-9944-5a875c2d7f4f  \n",
              "3  186c1951-8052-4b37-adce-dd9644b1d5f7  \n",
              "4  2067216c-31b5-455d-a1cc-af0575a34ffb  "
            ]
          },
          "execution_count": 2,
          "metadata": {},
          "output_type": "execute_result"
        }
      ],
      "source": [
        "path = \"/Users/noam/Desktop/לימודים/שנה ג/סמסטר ב/פייתון/מטלות להגשה/מטלה 2/\"\n",
        "filename = \"matala2_cosmetics_2019-Nov.csv\"\n",
        "datafile = path + filename\n",
        "data = pd.read_csv(datafile)\n",
        "data.head()\n"
      ]
    },
    {
      "cell_type": "markdown",
      "id": "6c9ef994-e0fe-4387-a65f-9e2cb1e956b2",
      "metadata": {
        "id": "6c9ef994-e0fe-4387-a65f-9e2cb1e956b2"
      },
      "source": [
        "## Q1"
      ]
    },
    {
      "cell_type": "code",
      "execution_count": null,
      "id": "35cc0a31-1dd8-4c43-b378-8cfb9208a44b",
      "metadata": {
        "id": "35cc0a31-1dd8-4c43-b378-8cfb9208a44b",
        "outputId": "1cff380c-bac0-4069-c664-556a8254c997"
      },
      "outputs": [
        {
          "data": {
            "text/plain": [
              "event_time       object\n",
              "event_type       object\n",
              "product_id        int64\n",
              "category_id       int64\n",
              "category_code    object\n",
              "brand            object\n",
              "price            object\n",
              "user_id           int64\n",
              "user_session     object\n",
              "dtype: object"
            ]
          },
          "execution_count": 3,
          "metadata": {},
          "output_type": "execute_result"
        }
      ],
      "source": [
        "data.dtypes"
      ]
    },
    {
      "cell_type": "markdown",
      "id": "2a79d432-ec40-404e-9ec2-93667993b0f1",
      "metadata": {
        "id": "2a79d432-ec40-404e-9ec2-93667993b0f1"
      },
      "source": [
        "### as we can see, event time's type is object so we will change it to datetime."
      ]
    },
    {
      "cell_type": "code",
      "execution_count": null,
      "id": "0ddaf343-d3cc-4add-826f-af99bddb5a3f",
      "metadata": {
        "id": "0ddaf343-d3cc-4add-826f-af99bddb5a3f"
      },
      "outputs": [],
      "source": [
        "data['event_time'] = pd.to_datetime(data['event_time'])\n",
        "data['duration_to_next_event'] = (data.groupby('user_session')['event_time'].shift(-1) - data['event_time']).dt.seconds.fillna(0)\n",
        "data.head()"
      ]
    },
    {
      "cell_type": "code",
      "execution_count": null,
      "id": "cd2ec0c4-bbdd-46a7-9094-eaf721e4262d",
      "metadata": {
        "id": "cd2ec0c4-bbdd-46a7-9094-eaf721e4262d"
      },
      "outputs": [],
      "source": [
        "## Q2"
      ]
    },
    {
      "cell_type": "code",
      "execution_count": null,
      "id": "b1577e76-73a4-4fdb-af81-1f4fa3384179",
      "metadata": {
        "id": "b1577e76-73a4-4fdb-af81-1f4fa3384179"
      },
      "outputs": [],
      "source": [
        "data = data.sort_values(['user_id', 'event_time'])\n",
        "data['different_time'] = data.groupby('user_id')['event_time'].diff()\n",
        "true_or_false = data['different_time'] > timedelta(days=5)\n",
        "p_t_o_f = true_or_false.groupby(data['user_id']).cumsum()\n",
        "data['p_t_o_f'] = p_t_o_f\n",
        "data['funnel_number'] = data['p_t_o_f'] + 1\n",
        "data = data.drop(['different_time','p_t_o_f'], axis=1)\n",
        "data.tail()\n"
      ]
    },
    {
      "cell_type": "code",
      "execution_count": null,
      "id": "8a3ac86f-7b80-4aed-bf96-cbb4f83ebdab",
      "metadata": {
        "id": "8a3ac86f-7b80-4aed-bf96-cbb4f83ebdab",
        "outputId": "6f1baa7a-068e-4088-c1dd-5def812539c6"
      },
      "outputs": [
        {
          "data": {
            "text/plain": [
              "funnel_number\n",
              "1                3574913\n",
              "2                 868473\n",
              "3                 175229\n",
              "4                  16939\n",
              "5                    283\n",
              "dtype: int64"
            ]
          },
          "execution_count": 13,
          "metadata": {},
          "output_type": "execute_result"
        }
      ],
      "source": [
        "data[['funnel_number']].value_counts()"
      ]
    },
    {
      "cell_type": "code",
      "execution_count": null,
      "id": "d6852f81-2bde-4f22-ad6a-91e7d158c195",
      "metadata": {
        "id": "d6852f81-2bde-4f22-ad6a-91e7d158c195"
      },
      "outputs": [],
      "source": [
        "## Q3"
      ]
    },
    {
      "cell_type": "code",
      "execution_count": null,
      "id": "132ece6d-c019-485d-8737-7cb1990a2a52",
      "metadata": {
        "id": "132ece6d-c019-485d-8737-7cb1990a2a52",
        "outputId": "f2057a7b-67e5-4393-c33a-7078642f4213"
      },
      "outputs": [
        {
          "data": {
            "text/html": [
              "<div>\n",
              "<style scoped>\n",
              "    .dataframe tbody tr th:only-of-type {\n",
              "        vertical-align: middle;\n",
              "    }\n",
              "\n",
              "    .dataframe tbody tr th {\n",
              "        vertical-align: top;\n",
              "    }\n",
              "\n",
              "    .dataframe thead th {\n",
              "        text-align: right;\n",
              "    }\n",
              "</style>\n",
              "<table border=\"1\" class=\"dataframe\">\n",
              "  <thead>\n",
              "    <tr style=\"text-align: right;\">\n",
              "      <th></th>\n",
              "      <th>event_time</th>\n",
              "      <th>event_type</th>\n",
              "      <th>product_id</th>\n",
              "      <th>category_id</th>\n",
              "      <th>category_code</th>\n",
              "      <th>brand</th>\n",
              "      <th>price</th>\n",
              "      <th>user_id</th>\n",
              "      <th>user_session</th>\n",
              "      <th>duration_to_next_event</th>\n",
              "      <th>funnel_number</th>\n",
              "      <th>index_in_funnel</th>\n",
              "    </tr>\n",
              "  </thead>\n",
              "  <tbody>\n",
              "    <tr>\n",
              "      <th>4635733</th>\n",
              "      <td>2019-11-30 23:56:14</td>\n",
              "      <td>view</td>\n",
              "      <td>5892179</td>\n",
              "      <td>1487580013950664926</td>\n",
              "      <td>NaN</td>\n",
              "      <td>NaN</td>\n",
              "      <td>18.89</td>\n",
              "      <td>579968623</td>\n",
              "      <td>a06e9a89-55ff-4c3a-abd6-aa4fdf808058</td>\n",
              "      <td>-3.0</td>\n",
              "      <td>1</td>\n",
              "      <td>1</td>\n",
              "    </tr>\n",
              "    <tr>\n",
              "      <th>4635736</th>\n",
              "      <td>2019-11-30 23:56:17</td>\n",
              "      <td>view</td>\n",
              "      <td>5900651</td>\n",
              "      <td>1487580013950664926</td>\n",
              "      <td>NaN</td>\n",
              "      <td>NaN</td>\n",
              "      <td>19.52</td>\n",
              "      <td>579968623</td>\n",
              "      <td>a06e9a89-55ff-4c3a-abd6-aa4fdf808058</td>\n",
              "      <td>-4.0</td>\n",
              "      <td>1</td>\n",
              "      <td>1</td>\n",
              "    </tr>\n",
              "    <tr>\n",
              "      <th>4635737</th>\n",
              "      <td>2019-11-30 23:56:21</td>\n",
              "      <td>view</td>\n",
              "      <td>5892179</td>\n",
              "      <td>1487580013950664926</td>\n",
              "      <td>NaN</td>\n",
              "      <td>NaN</td>\n",
              "      <td>18.89</td>\n",
              "      <td>579968623</td>\n",
              "      <td>a06e9a89-55ff-4c3a-abd6-aa4fdf808058</td>\n",
              "      <td>0.0</td>\n",
              "      <td>1</td>\n",
              "      <td>1</td>\n",
              "    </tr>\n",
              "    <tr>\n",
              "      <th>4635752</th>\n",
              "      <td>2019-11-30 23:56:46</td>\n",
              "      <td>view</td>\n",
              "      <td>5790563</td>\n",
              "      <td>1487580008263189483</td>\n",
              "      <td>NaN</td>\n",
              "      <td>NaN</td>\n",
              "      <td>7.14</td>\n",
              "      <td>579968937</td>\n",
              "      <td>878af093-7570-48ae-966c-d50ce61e390c</td>\n",
              "      <td>0.0</td>\n",
              "      <td>1</td>\n",
              "      <td>1</td>\n",
              "    </tr>\n",
              "    <tr>\n",
              "      <th>4635836</th>\n",
              "      <td>2019-11-30 23:59:58</td>\n",
              "      <td>view</td>\n",
              "      <td>5880201</td>\n",
              "      <td>2029731308699124089</td>\n",
              "      <td>NaN</td>\n",
              "      <td>rasyan</td>\n",
              "      <td>3.76</td>\n",
              "      <td>579969854</td>\n",
              "      <td>e9fa2c3e-8c9e-448c-880a-21ca57c18b3b</td>\n",
              "      <td>0.0</td>\n",
              "      <td>1</td>\n",
              "      <td>1</td>\n",
              "    </tr>\n",
              "  </tbody>\n",
              "</table>\n",
              "</div>"
            ],
            "text/plain": [
              "                 event_time event_type  product_id          category_id  \\\n",
              "4635733 2019-11-30 23:56:14       view     5892179  1487580013950664926   \n",
              "4635736 2019-11-30 23:56:17       view     5900651  1487580013950664926   \n",
              "4635737 2019-11-30 23:56:21       view     5892179  1487580013950664926   \n",
              "4635752 2019-11-30 23:56:46       view     5790563  1487580008263189483   \n",
              "4635836 2019-11-30 23:59:58       view     5880201  2029731308699124089   \n",
              "\n",
              "        category_code   brand  price    user_id  \\\n",
              "4635733           NaN     NaN  18.89  579968623   \n",
              "4635736           NaN     NaN  19.52  579968623   \n",
              "4635737           NaN     NaN  18.89  579968623   \n",
              "4635752           NaN     NaN   7.14  579968937   \n",
              "4635836           NaN  rasyan   3.76  579969854   \n",
              "\n",
              "                                 user_session  duration_to_next_event  \\\n",
              "4635733  a06e9a89-55ff-4c3a-abd6-aa4fdf808058                    -3.0   \n",
              "4635736  a06e9a89-55ff-4c3a-abd6-aa4fdf808058                    -4.0   \n",
              "4635737  a06e9a89-55ff-4c3a-abd6-aa4fdf808058                     0.0   \n",
              "4635752  878af093-7570-48ae-966c-d50ce61e390c                     0.0   \n",
              "4635836  e9fa2c3e-8c9e-448c-880a-21ca57c18b3b                     0.0   \n",
              "\n",
              "         funnel_number  index_in_funnel  \n",
              "4635733              1                1  \n",
              "4635736              1                1  \n",
              "4635737              1                1  \n",
              "4635752              1                1  \n",
              "4635836              1                1  "
            ]
          },
          "execution_count": 17,
          "metadata": {},
          "output_type": "execute_result"
        }
      ],
      "source": [
        "data['session'] = np.where(data['user_session'].shift() == data['user_session'],0,1)\n",
        "data['index_in_funnel'] = data.groupby(['user_id','funnel_number'])['session'].cumsum()\n",
        "data  = data.drop(['session'],axis=1)\n",
        "data.tail()"
      ]
    },
    {
      "cell_type": "code",
      "execution_count": null,
      "id": "0ec55c6a-ff7b-4d6b-bb96-6aa75f40055f",
      "metadata": {
        "id": "0ec55c6a-ff7b-4d6b-bb96-6aa75f40055f"
      },
      "outputs": [],
      "source": [
        "## Q4"
      ]
    },
    {
      "cell_type": "code",
      "execution_count": null,
      "id": "fbd8ed85-1294-45b9-901c-6837d378b735",
      "metadata": {
        "id": "fbd8ed85-1294-45b9-901c-6837d378b735",
        "outputId": "44c5d0f5-aa94-4408-96f6-a98f89904abd"
      },
      "outputs": [
        {
          "data": {
            "text/html": [
              "<div>\n",
              "<style scoped>\n",
              "    .dataframe tbody tr th:only-of-type {\n",
              "        vertical-align: middle;\n",
              "    }\n",
              "\n",
              "    .dataframe tbody tr th {\n",
              "        vertical-align: top;\n",
              "    }\n",
              "\n",
              "    .dataframe thead th {\n",
              "        text-align: right;\n",
              "    }\n",
              "</style>\n",
              "<table border=\"1\" class=\"dataframe\">\n",
              "  <thead>\n",
              "    <tr style=\"text-align: right;\">\n",
              "      <th></th>\n",
              "      <th>event_time</th>\n",
              "      <th>event_type</th>\n",
              "      <th>product_id</th>\n",
              "      <th>category_id</th>\n",
              "      <th>category_code</th>\n",
              "      <th>brand</th>\n",
              "      <th>price</th>\n",
              "      <th>user_id</th>\n",
              "      <th>user_session</th>\n",
              "      <th>duration_to_next_event</th>\n",
              "      <th>funnel_number</th>\n",
              "      <th>index_in_funnel</th>\n",
              "    </tr>\n",
              "  </thead>\n",
              "  <tbody>\n",
              "    <tr>\n",
              "      <th>437209</th>\n",
              "      <td>2019-11-04 15:28:57</td>\n",
              "      <td>view</td>\n",
              "      <td>5240</td>\n",
              "      <td>1487580009202712597</td>\n",
              "      <td>NaN</td>\n",
              "      <td>runail</td>\n",
              "      <td>4.05</td>\n",
              "      <td>1120748</td>\n",
              "      <td>d0484d94-7ac1-44e8-a310-2360da11ad9d</td>\n",
              "      <td>0.0</td>\n",
              "      <td>1</td>\n",
              "      <td>1</td>\n",
              "    </tr>\n",
              "    <tr>\n",
              "      <th>2483241</th>\n",
              "      <td>2019-11-19 09:56:09</td>\n",
              "      <td>view</td>\n",
              "      <td>5711145</td>\n",
              "      <td>1487580005008409427</td>\n",
              "      <td>NaN</td>\n",
              "      <td>f.o.x</td>\n",
              "      <td>6.03</td>\n",
              "      <td>1458813</td>\n",
              "      <td>b16644a2-44db-4650-8156-f6f03782d432</td>\n",
              "      <td>0.0</td>\n",
              "      <td>1</td>\n",
              "      <td>1</td>\n",
              "    </tr>\n",
              "    <tr>\n",
              "      <th>2494623</th>\n",
              "      <td>2019-11-19 11:14:48</td>\n",
              "      <td>view</td>\n",
              "      <td>5814066</td>\n",
              "      <td>1487580005855658874</td>\n",
              "      <td>NaN</td>\n",
              "      <td>grattol</td>\n",
              "      <td>2.30</td>\n",
              "      <td>1458813</td>\n",
              "      <td>6873a205-d9f5-4d51-b3eb-b4bfddfe907c</td>\n",
              "      <td>0.0</td>\n",
              "      <td>1</td>\n",
              "      <td>2</td>\n",
              "    </tr>\n",
              "    <tr>\n",
              "      <th>2640971</th>\n",
              "      <td>2019-11-20 11:58:06</td>\n",
              "      <td>view</td>\n",
              "      <td>5800358</td>\n",
              "      <td>1487580005553668971</td>\n",
              "      <td>NaN</td>\n",
              "      <td>NaN</td>\n",
              "      <td>7.46</td>\n",
              "      <td>1458813</td>\n",
              "      <td>921ff98c-a419-4132-af94-ee26880334b0</td>\n",
              "      <td>-21.0</td>\n",
              "      <td>1</td>\n",
              "      <td>3</td>\n",
              "    </tr>\n",
              "    <tr>\n",
              "      <th>2641003</th>\n",
              "      <td>2019-11-20 11:58:27</td>\n",
              "      <td>view</td>\n",
              "      <td>5800349</td>\n",
              "      <td>1487580005553668971</td>\n",
              "      <td>NaN</td>\n",
              "      <td>NaN</td>\n",
              "      <td>7.46</td>\n",
              "      <td>1458813</td>\n",
              "      <td>921ff98c-a419-4132-af94-ee26880334b0</td>\n",
              "      <td>-72.0</td>\n",
              "      <td>1</td>\n",
              "      <td>3</td>\n",
              "    </tr>\n",
              "  </tbody>\n",
              "</table>\n",
              "</div>"
            ],
            "text/plain": [
              "                 event_time event_type  product_id          category_id  \\\n",
              "437209  2019-11-04 15:28:57       view        5240  1487580009202712597   \n",
              "2483241 2019-11-19 09:56:09       view     5711145  1487580005008409427   \n",
              "2494623 2019-11-19 11:14:48       view     5814066  1487580005855658874   \n",
              "2640971 2019-11-20 11:58:06       view     5800358  1487580005553668971   \n",
              "2641003 2019-11-20 11:58:27       view     5800349  1487580005553668971   \n",
              "\n",
              "        category_code    brand  price  user_id  \\\n",
              "437209            NaN   runail   4.05  1120748   \n",
              "2483241           NaN    f.o.x   6.03  1458813   \n",
              "2494623           NaN  grattol   2.30  1458813   \n",
              "2640971           NaN      NaN   7.46  1458813   \n",
              "2641003           NaN      NaN   7.46  1458813   \n",
              "\n",
              "                                 user_session  duration_to_next_event  \\\n",
              "437209   d0484d94-7ac1-44e8-a310-2360da11ad9d                     0.0   \n",
              "2483241  b16644a2-44db-4650-8156-f6f03782d432                     0.0   \n",
              "2494623  6873a205-d9f5-4d51-b3eb-b4bfddfe907c                     0.0   \n",
              "2640971  921ff98c-a419-4132-af94-ee26880334b0                   -21.0   \n",
              "2641003  921ff98c-a419-4132-af94-ee26880334b0                   -72.0   \n",
              "\n",
              "         funnel_number  index_in_funnel  \n",
              "437209               1                1  \n",
              "2483241              1                1  \n",
              "2494623              1                2  \n",
              "2640971              1                3  \n",
              "2641003              1                3  "
            ]
          },
          "execution_count": 18,
          "metadata": {},
          "output_type": "execute_result"
        }
      ],
      "source": [
        "data['price'] = data['price'].astype(str)\n",
        "data['price'] = data['price'].str.extract('(\\d+\\.\\d+)').astype(float)\n",
        "data.head()"
      ]
    },
    {
      "cell_type": "code",
      "execution_count": null,
      "id": "3f79cfa9-a4bd-4888-95a4-0498ba9a284f",
      "metadata": {
        "id": "3f79cfa9-a4bd-4888-95a4-0498ba9a284f"
      },
      "outputs": [],
      "source": [
        "## Q5"
      ]
    },
    {
      "cell_type": "code",
      "execution_count": null,
      "id": "64bb8256-a8f5-45c5-85e9-8213a11ab8dc",
      "metadata": {
        "id": "64bb8256-a8f5-45c5-85e9-8213a11ab8dc",
        "outputId": "961d303e-b484-4f22-d382-df56bb387d3d"
      },
      "outputs": [
        {
          "data": {
            "text/plain": [
              "<AxesSubplot:xlabel='event_type', ylabel='count'>"
            ]
          },
          "execution_count": 22,
          "metadata": {},
          "output_type": "execute_result"
        },
        {
          "data": {
            "image/png": "[encoded data removed]",
            "text/plain": [
              "<Figure size 432x288 with 1 Axes>"
            ]
          },
          "metadata": {
            "needs_background": "light"
          },
          "output_type": "display_data"
        }
      ],
      "source": [
        "sns.countplot(x='event_type', data=data)"
      ]
    },
    {
      "cell_type": "code",
      "execution_count": null,
      "id": "dc9ef48a-e918-4860-ae93-d67e0b38bd75",
      "metadata": {
        "id": "dc9ef48a-e918-4860-ae93-d67e0b38bd75"
      },
      "outputs": [],
      "source": [
        "## Q6"
      ]
    },
    {
      "cell_type": "code",
      "execution_count": null,
      "id": "67153ae7-4a47-497d-a33d-5f509a4e76d4",
      "metadata": {
        "id": "67153ae7-4a47-497d-a33d-5f509a4e76d4",
        "outputId": "b0a0e3a6-884f-44c9-87b8-666e1db4ed96"
      },
      "outputs": [
        {
          "data": {
            "text/html": [
              "<div>\n",
              "<style scoped>\n",
              "    .dataframe tbody tr th:only-of-type {\n",
              "        vertical-align: middle;\n",
              "    }\n",
              "\n",
              "    .dataframe tbody tr th {\n",
              "        vertical-align: top;\n",
              "    }\n",
              "\n",
              "    .dataframe thead th {\n",
              "        text-align: right;\n",
              "    }\n",
              "</style>\n",
              "<table border=\"1\" class=\"dataframe\">\n",
              "  <thead>\n",
              "    <tr style=\"text-align: right;\">\n",
              "      <th></th>\n",
              "      <th>user_id</th>\n",
              "      <th>user_session</th>\n",
              "      <th>funnel_number</th>\n",
              "      <th>index_in_funnel</th>\n",
              "      <th>events_per_visit</th>\n",
              "      <th>session_duration</th>\n",
              "      <th>list_of_view</th>\n",
              "      <th>list_of_added_to_cart</th>\n",
              "      <th>list_of_purchased</th>\n",
              "    </tr>\n",
              "  </thead>\n",
              "  <tbody>\n",
              "    <tr>\n",
              "      <th>0</th>\n",
              "      <td>1120748</td>\n",
              "      <td>d0484d94-7ac1-44e8-a310-2360da11ad9d</td>\n",
              "      <td>1</td>\n",
              "      <td>1</td>\n",
              "      <td>1.0</td>\n",
              "      <td>0.0</td>\n",
              "      <td>[5240.0]</td>\n",
              "      <td>[]</td>\n",
              "      <td>[]</td>\n",
              "    </tr>\n",
              "    <tr>\n",
              "      <th>1</th>\n",
              "      <td>1458813</td>\n",
              "      <td>6873a205-d9f5-4d51-b3eb-b4bfddfe907c</td>\n",
              "      <td>1</td>\n",
              "      <td>2</td>\n",
              "      <td>1.0</td>\n",
              "      <td>0.0</td>\n",
              "      <td>[5814066.0]</td>\n",
              "      <td>[]</td>\n",
              "      <td>[]</td>\n",
              "    </tr>\n",
              "    <tr>\n",
              "      <th>2</th>\n",
              "      <td>1458813</td>\n",
              "      <td>921ff98c-a419-4132-af94-ee26880334b0</td>\n",
              "      <td>1</td>\n",
              "      <td>3</td>\n",
              "      <td>28.0</td>\n",
              "      <td>-3789.0</td>\n",
              "      <td>[5800358.0, 5800349.0, 5800349.0, 5800358.0, 5...</td>\n",
              "      <td>[]</td>\n",
              "      <td>[]</td>\n",
              "    </tr>\n",
              "    <tr>\n",
              "      <th>3</th>\n",
              "      <td>1458813</td>\n",
              "      <td>ad1a2e9e-cc14-4b98-b70b-5dd539e76bba</td>\n",
              "      <td>1</td>\n",
              "      <td>4</td>\n",
              "      <td>1.0</td>\n",
              "      <td>0.0</td>\n",
              "      <td>[5711087.0]</td>\n",
              "      <td>[]</td>\n",
              "      <td>[]</td>\n",
              "    </tr>\n",
              "    <tr>\n",
              "      <th>4</th>\n",
              "      <td>1458813</td>\n",
              "      <td>b16644a2-44db-4650-8156-f6f03782d432</td>\n",
              "      <td>1</td>\n",
              "      <td>1</td>\n",
              "      <td>1.0</td>\n",
              "      <td>0.0</td>\n",
              "      <td>[5711145.0]</td>\n",
              "      <td>[]</td>\n",
              "      <td>[]</td>\n",
              "    </tr>\n",
              "    <tr>\n",
              "      <th>...</th>\n",
              "      <td>...</td>\n",
              "      <td>...</td>\n",
              "      <td>...</td>\n",
              "      <td>...</td>\n",
              "      <td>...</td>\n",
              "      <td>...</td>\n",
              "      <td>...</td>\n",
              "      <td>...</td>\n",
              "      <td>...</td>\n",
              "    </tr>\n",
              "    <tr>\n",
              "      <th>1005111</th>\n",
              "      <td>579967088</td>\n",
              "      <td>670cb8b4-bef1-4ec7-bfe8-7c8317967c74</td>\n",
              "      <td>1</td>\n",
              "      <td>1</td>\n",
              "      <td>1.0</td>\n",
              "      <td>0.0</td>\n",
              "      <td>[5881428.0]</td>\n",
              "      <td>[]</td>\n",
              "      <td>[]</td>\n",
              "    </tr>\n",
              "    <tr>\n",
              "      <th>1005112</th>\n",
              "      <td>579968012</td>\n",
              "      <td>547ad51a-cdf2-4a0a-b819-8061c012bcee</td>\n",
              "      <td>1</td>\n",
              "      <td>1</td>\n",
              "      <td>1.0</td>\n",
              "      <td>0.0</td>\n",
              "      <td>[5873630.0]</td>\n",
              "      <td>[]</td>\n",
              "      <td>[]</td>\n",
              "    </tr>\n",
              "    <tr>\n",
              "      <th>1005113</th>\n",
              "      <td>579968623</td>\n",
              "      <td>a06e9a89-55ff-4c3a-abd6-aa4fdf808058</td>\n",
              "      <td>1</td>\n",
              "      <td>1</td>\n",
              "      <td>5.0</td>\n",
              "      <td>-38.0</td>\n",
              "      <td>[5892179.0, 5886282.0, 5892179.0, 5900651.0, 5...</td>\n",
              "      <td>[]</td>\n",
              "      <td>[]</td>\n",
              "    </tr>\n",
              "    <tr>\n",
              "      <th>1005114</th>\n",
              "      <td>579968937</td>\n",
              "      <td>878af093-7570-48ae-966c-d50ce61e390c</td>\n",
              "      <td>1</td>\n",
              "      <td>1</td>\n",
              "      <td>1.0</td>\n",
              "      <td>0.0</td>\n",
              "      <td>[5790563.0]</td>\n",
              "      <td>[]</td>\n",
              "      <td>[]</td>\n",
              "    </tr>\n",
              "    <tr>\n",
              "      <th>1005115</th>\n",
              "      <td>579969854</td>\n",
              "      <td>e9fa2c3e-8c9e-448c-880a-21ca57c18b3b</td>\n",
              "      <td>1</td>\n",
              "      <td>1</td>\n",
              "      <td>1.0</td>\n",
              "      <td>0.0</td>\n",
              "      <td>[5880201.0]</td>\n",
              "      <td>[]</td>\n",
              "      <td>[]</td>\n",
              "    </tr>\n",
              "  </tbody>\n",
              "</table>\n",
              "<p>1005116 rows × 9 columns</p>\n",
              "</div>"
            ],
            "text/plain": [
              "           user_id                          user_session  funnel_number  \\\n",
              "0          1120748  d0484d94-7ac1-44e8-a310-2360da11ad9d              1   \n",
              "1          1458813  6873a205-d9f5-4d51-b3eb-b4bfddfe907c              1   \n",
              "2          1458813  921ff98c-a419-4132-af94-ee26880334b0              1   \n",
              "3          1458813  ad1a2e9e-cc14-4b98-b70b-5dd539e76bba              1   \n",
              "4          1458813  b16644a2-44db-4650-8156-f6f03782d432              1   \n",
              "...            ...                                   ...            ...   \n",
              "1005111  579967088  670cb8b4-bef1-4ec7-bfe8-7c8317967c74              1   \n",
              "1005112  579968012  547ad51a-cdf2-4a0a-b819-8061c012bcee              1   \n",
              "1005113  579968623  a06e9a89-55ff-4c3a-abd6-aa4fdf808058              1   \n",
              "1005114  579968937  878af093-7570-48ae-966c-d50ce61e390c              1   \n",
              "1005115  579969854  e9fa2c3e-8c9e-448c-880a-21ca57c18b3b              1   \n",
              "\n",
              "         index_in_funnel  events_per_visit  session_duration  \\\n",
              "0                      1               1.0               0.0   \n",
              "1                      2               1.0               0.0   \n",
              "2                      3              28.0           -3789.0   \n",
              "3                      4               1.0               0.0   \n",
              "4                      1               1.0               0.0   \n",
              "...                  ...               ...               ...   \n",
              "1005111                1               1.0               0.0   \n",
              "1005112                1               1.0               0.0   \n",
              "1005113                1               5.0             -38.0   \n",
              "1005114                1               1.0               0.0   \n",
              "1005115                1               1.0               0.0   \n",
              "\n",
              "                                              list_of_view  \\\n",
              "0                                                 [5240.0]   \n",
              "1                                              [5814066.0]   \n",
              "2        [5800358.0, 5800349.0, 5800349.0, 5800358.0, 5...   \n",
              "3                                              [5711087.0]   \n",
              "4                                              [5711145.0]   \n",
              "...                                                    ...   \n",
              "1005111                                        [5881428.0]   \n",
              "1005112                                        [5873630.0]   \n",
              "1005113  [5892179.0, 5886282.0, 5892179.0, 5900651.0, 5...   \n",
              "1005114                                        [5790563.0]   \n",
              "1005115                                        [5880201.0]   \n",
              "\n",
              "        list_of_added_to_cart list_of_purchased  \n",
              "0                          []                []  \n",
              "1                          []                []  \n",
              "2                          []                []  \n",
              "3                          []                []  \n",
              "4                          []                []  \n",
              "...                       ...               ...  \n",
              "1005111                    []                []  \n",
              "1005112                    []                []  \n",
              "1005113                    []                []  \n",
              "1005114                    []                []  \n",
              "1005115                    []                []  \n",
              "\n",
              "[1005116 rows x 9 columns]"
            ]
          },
          "execution_count": 33,
          "metadata": {},
          "output_type": "execute_result"
        }
      ],
      "source": [
        "data.sort_values(by=['event_time'],inplace = True)\n",
        "data['list_of_view'] = data.apply(lambda row: row['product_id'] if row['event_type'] == 'view' else None, axis=1)\n",
        "data['list_of_added_to_cart'] = data.apply(lambda row: row['product_id'] if row['event_type'] == 'cart' else None, axis=1)\n",
        "data['list_of_purchased'] = data.apply(lambda row: row['product_id'] if row['event_type'] == 'purchase' else None, axis=1)\n",
        "data['events_per_visit'] = data.groupby(['user_id', 'user_session'])['event_type'].transform('count')\n",
        "session_duration = data[['user_session', 'duration_to_next_event']].groupby('user_session').sum()\n",
        "session_duration = session_duration.rename(columns={'duration_to_next_event': 'session_duration'})\n",
        "data = data.merge(session_duration, on='user_session', how='left')\n",
        "\n",
        "\n",
        "session_data = data.groupby(['user_id', 'user_session','funnel_number','index_in_funnel','events_per_visit','session_duration']).agg({'list_of_view': lambda x: list(x.dropna()),'list_of_added_to_cart': lambda x: list(x.dropna()),'list_of_purchased': lambda x: list(x.dropna()),}).reset_index()\n",
        "session_data"
      ]
    },
    {
      "cell_type": "code",
      "execution_count": null,
      "id": "3ef8b24a-ac7c-45a8-a29f-8df168c8653f",
      "metadata": {
        "id": "3ef8b24a-ac7c-45a8-a29f-8df168c8653f"
      },
      "outputs": [],
      "source": []
    }
  ],
  "metadata": {
    "kernelspec": {
      "display_name": "Python 3 (ipykernel)",
      "language": "python",
      "name": "python3"
    },
    "language_info": {
      "codemirror_mode": {
        "name": "ipython",
        "version": 3
      },
      "file_extension": ".py",
      "mimetype": "text/x-python",
      "name": "python",
      "nbconvert_exporter": "python",
      "pygments_lexer": "ipython3",
      "version": "3.8.3"
    },
    "colab": {
      "provenance": [],
      "include_colab_link": true
    }
  },
  "nbformat": 4,
  "nbformat_minor": 5
}